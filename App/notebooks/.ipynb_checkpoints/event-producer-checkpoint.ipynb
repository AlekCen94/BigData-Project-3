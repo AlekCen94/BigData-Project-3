{
 "cells": [
  {
   "cell_type": "code",
   "execution_count": null,
   "metadata": {},
   "outputs": [],
   "source": [
    "!pip install sseclient"
   ]
  },
  {
   "cell_type": "code",
   "execution_count": null,
   "metadata": {},
   "outputs": [],
   "source": [
    "pip install kafka-python"
   ]
  },
  {
   "cell_type": "code",
   "execution_count": null,
   "metadata": {},
   "outputs": [],
   "source": [
    "import json\n",
    "#from sseclient import SSEClient as EventSource\n",
    "from kafka import KafkaProducer\n",
    "from pyspark.sql import SparkSession\n",
    "import time\n",
    "from pyspark.sql.types import IntegerType, TimestampType, StringType\n",
    "from pyspark.sql.functions import *\n",
    "\n",
    "def init():\n",
    "    spark = SparkSession.builder.appName('AndroidMalware').master(\"local\").getOrCreate()\n",
    "    return spark\n",
    "    \n",
    "def parsingData(inputPath, spark):\n",
    "    df = spark.read.options(header='True').csv(inputPath)\n",
    "    df2 = df.withColumn(\" Timestamp\", to_timestamp(col(\" Timestamp\"), 'dd/MM/yyyy HH:mm:ss'))\n",
    "    df3 = df2.withColumn(\" Timestamp\", df2[\" Timestamp\"].cast(StringType())) \n",
    "    return df3\n",
    "    \n",
    "# Create producer\n",
    "producer = KafkaProducer(\n",
    "    bootstrap_servers='kafka-server:9092', \n",
    "    value_serializer=lambda v: json.dumps(v).encode('utf-8'))\n",
    "\n",
    "# Read streaming event\n",
    "sc = init()\n",
    "data = parsingData(\"hdfs://namenode:9000/data/hadoopspark/06_13_2017-ad-ewind-koodous-1de012d8de8b0be0d0b27da1a0c03f52.pcap_ISCX.csv\", sc)\n",
    "clearData = data[\" Source IP\",\" Source Port\",\" Destination IP\", \" Destination Port\",\" Timestamp\",\" Flow Duration\",\" Total Fwd Packets\",\" Total Backward Packets\",\"Total Length of Fwd Packets\",\" Total Length of Bwd Packets\",\"Flow Bytes/s\",\" Flow Packets/s\"]\n",
    "rdd2 = clearData.rdd.map(lambda x: [clearData for clearData in x])\n",
    "mesData = rdd2.collect()\n",
    "for msg in mesData:\n",
    "    m = str(msg)\n",
    "    m = m[1:-1]\n",
    "    m = m.replace(\"'\", \"\")\n",
    "    producer.send('AndMalwer',m)\n",
    "    print(m)\n",
    "    time.sleep(3)\n",
    "\n",
    "\n"
   ]
  },
  {
   "cell_type": "code",
   "execution_count": null,
   "metadata": {},
   "outputs": [],
   "source": []
  },
  {
   "cell_type": "code",
   "execution_count": null,
   "metadata": {},
   "outputs": [],
   "source": []
  }
 ],
 "metadata": {
  "kernelspec": {
   "display_name": "Python 3",
   "language": "python",
   "name": "python3"
  },
  "language_info": {
   "codemirror_mode": {
    "name": "ipython",
    "version": 3
   },
   "file_extension": ".py",
   "mimetype": "text/x-python",
   "name": "python",
   "nbconvert_exporter": "python",
   "pygments_lexer": "ipython3",
   "version": "3.9.4"
  }
 },
 "nbformat": 4,
 "nbformat_minor": 4
}
