{
 "cells": [
  {
   "cell_type": "code",
   "execution_count": 1,
   "metadata": {},
   "outputs": [
    {
     "name": "stdout",
     "output_type": "stream",
     "text": [
      "Requirement already satisfied: neo4j in /opt/conda/lib/python3.9/site-packages (4.4.1)\r\n",
      "Requirement already satisfied: pytz in /opt/conda/lib/python3.9/site-packages (from neo4j) (2021.1)\r\n"
     ]
    }
   ],
   "source": [
    "!pip install neo4j"
   ]
  },
  {
   "cell_type": "code",
   "execution_count": 10,
   "metadata": {},
   "outputs": [],
   "source": [
    "from pyspark.sql import SparkSession\n",
    "from pyspark.sql.types import StructType, StructField, StringType, IntegerType, TimestampType, DoubleType\n",
    "from pyspark.sql.functions import from_json\n",
    "from pyspark.sql.functions import from_csv\n",
    "from pyspark.sql.functions import *\n",
    "from pyspark.sql.window import Window\n",
    "from neo4j import GraphDatabase"
   ]
  },
  {
   "cell_type": "code",
   "execution_count": 11,
   "metadata": {},
   "outputs": [],
   "source": [
    "# Spark session & context\n",
    "def init():\n",
    "    spark = (SparkSession\n",
    "         .builder\n",
    "         .master('local')\n",
    "         .appName('AndMalware-consumer')\n",
    "         # Add kafka package  \n",
    "         .config(\"spark.jars.packages\", \"org.apache.spark:spark-sql-kafka-0-10_2.12:3.1.1\")\\\n",
    "         .getOrCreate())\n",
    "    return spark"
   ]
  },
  {
   "cell_type": "code",
   "execution_count": 12,
   "metadata": {
    "scrolled": true
   },
   "outputs": [],
   "source": [
    "sc = init()\n",
    "# Create stream dataframe setting kafka server, topic and offset option\n",
    "def getReadStream(spark):\n",
    "    df = spark \\\n",
    "      .readStream \\\n",
    "      .format(\"kafka\") \\\n",
    "      .option(\"kafka.bootstrap.servers\", \"kafka-server:9092\") \\\n",
    "      .option(\"startingOffsets\", \"earliest\") \\\n",
    "      .option(\"subscribe\", \"AndMalwer\") \\\n",
    "      .load()\n",
    "    \n",
    "    #df.selectExpr(\"CAST(value AS STRING)\", \"timestamp\")\n",
    "    dff = (df\n",
    "    .withColumn(\"key\", df[\"key\"].cast(StringType()))\n",
    "    .withColumn(\"value\", df[\"value\"].cast(StringType())))\n",
    "    return dff\n"
   ]
  },
  {
   "cell_type": "code",
   "execution_count": 18,
   "metadata": {},
   "outputs": [],
   "source": [
    "def foreach_batch_function(df, epoch_id):\n",
    "    # Transform and write batchDF\n",
    "    df.write\\\n",
    "    .format(\"org.neo4j.spark.DataSource\")\\\n",
    "    .mode(\"Append\")\\\n",
    "    .option(\"url\", \"bolt://neo4j:7687\")\\\n",
    "    .option(\"authentication.type\", \"basic\")\\\n",
    "    .option(\"authentication.basic.username\", \"neo4j\")\\\n",
    "    .option(\"authentication.basic.password\", \"neo\")\\\n",
    "    .option(\"query\", \"CREATE (n:Mala {maxFD: event.MaxFD})\")\\\n",
    "    .save()\n",
    "    pass"
   ]
  },
  {
   "cell_type": "code",
   "execution_count": null,
   "metadata": {
    "scrolled": true
   },
   "outputs": [],
   "source": [
    "df1 = getReadStream(sc)\n",
    "\n",
    "df2 = df1.selectExpr(\"split(value,',')[0] as Source_IP\" \\\n",
    "                 ,\"split(value,',')[1] as Source_Port\" \\\n",
    "                 ,\"split(value,',')[2] as Destination_IP\" \\\n",
    "                ,\"split(value,',')[3] as Destination_Port\" \\\n",
    "                ,\"split(value,',')[4] as Timestamp\" \\\n",
    "                ,\"split(value,',')[5] as Flow_Duration\" \\\n",
    "                ,\"split(value,',')[6] as Total_Fwd_Packets\" \\\n",
    "                ,\"split(value,',')[7] as Total_Bwd_Packets\" \\\n",
    "                ,\"split(value,',')[8] as Total_Length_of_Fwd_Packets\" \\\n",
    "                ,\"split(value,',')[9] as Total_Length_of_Bwd_Packets\" \\\n",
    "                ,\"split(value,',')[10] as Flow_Bytess\" \\\n",
    "                ,\"split(value,',')[11] as Flow_Packetss\" \\\n",
    "                    )\n",
    "\n",
    "\n",
    "\n",
    "df3 = df2.withColumn(\"Source_Port\", df2[\"Source_Port\"].cast(IntegerType()))\\\n",
    "        .withColumn(\"Destination_Port\", df2[\"Destination_Port\"].cast(IntegerType()))\\\n",
    "        .withColumn(\"Destination_IP\", df2[\"Destination_IP\"].alias(\"DIP\"))\\\n",
    "        .withColumn(\"Timestamp\", df2[\"Timestamp\"].cast(TimestampType()))\\\n",
    "        .withColumn(\"Flow_Duration\", df2[\"Flow_Duration\"].cast(IntegerType()))\\\n",
    "        .withColumn(\"Total_Fwd_Packets\", df2[\"Total_Fwd_Packets\"].cast(IntegerType()))\\\n",
    "        .withColumn(\"Total_Bwd_Packets\", df2[\"Total_Bwd_Packets\"].cast(IntegerType()))\\\n",
    "        .withColumn(\"Total_Length_of_Fwd_Packets\", df2[\"Total_Length_of_Fwd_Packets\"].cast(IntegerType()))\\\n",
    "        .withColumn(\"Total_Length_of_Bwd_Packets\", df2[\"Total_Length_of_Bwd_Packets\"].cast(IntegerType()))\\\n",
    "        .withColumn(\"Flow_Bytess\", df2[\"Flow_Bytess\"].cast(IntegerType()))\\\n",
    "        .withColumn(\"Flow_Packetss\", df2[\"Flow_Packetss\"].cast(DoubleType()))\n",
    "\n",
    "wdf = df3.groupBy(window(df3.Timestamp,\"10 minutes\")).agg(sum(col(\"Flow_Duration\")).alias(\"MaxFD\"))\n",
    "\n",
    "\n",
    "query = (wdf.writeStream\\\n",
    "        .foreachBatch(foreach_batch_function)\\\n",
    "        .outputMode('update')\\\n",
    "        .trigger(processingTime='3 seconds')\\\n",
    "        .start())\n",
    "\n",
    "query.awaitTermination()\n"
   ]
  },
  {
   "cell_type": "code",
   "execution_count": null,
   "metadata": {},
   "outputs": [],
   "source": []
  },
  {
   "cell_type": "code",
   "execution_count": null,
   "metadata": {},
   "outputs": [],
   "source": []
  },
  {
   "cell_type": "code",
   "execution_count": null,
   "metadata": {},
   "outputs": [],
   "source": []
  },
  {
   "cell_type": "code",
   "execution_count": null,
   "metadata": {},
   "outputs": [],
   "source": []
  },
  {
   "cell_type": "code",
   "execution_count": null,
   "metadata": {},
   "outputs": [],
   "source": []
  }
 ],
 "metadata": {
  "kernelspec": {
   "display_name": "Python 3",
   "language": "python",
   "name": "python3"
  },
  "language_info": {
   "codemirror_mode": {
    "name": "ipython",
    "version": 3
   },
   "file_extension": ".py",
   "mimetype": "text/x-python",
   "name": "python",
   "nbconvert_exporter": "python",
   "pygments_lexer": "ipython3",
   "version": "3.9.4"
  }
 },
 "nbformat": 4,
 "nbformat_minor": 4
}
