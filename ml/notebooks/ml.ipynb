{
 "cells": [
  {
   "cell_type": "code",
   "execution_count": 2,
   "metadata": {},
   "outputs": [
    {
     "name": "stdout",
     "output_type": "stream",
     "text": [
      "root\n",
      " |-- FD: double (nullable = true)\n",
      " |--  FIAM: double (nullable = true)\n",
      " |-- FP: double (nullable = true)\n",
      " |-- FB: double (nullable = true)\n",
      " |-- TLFP: double (nullable = true)\n",
      " |-- Label: string (nullable = true)\n",
      "\n"
     ]
    },
    {
     "name": "stderr",
     "output_type": "stream",
     "text": [
      "                                                                                \r"
     ]
    },
    {
     "name": "stdout",
     "output_type": "stream",
     "text": [
      "+----------+------------+--------------------+\n",
      "|prediction|indexedLabel|            features|\n",
      "+----------+------------+--------------------+\n",
      "|       0.0|         1.0|[2.0,2.0,1000000....|\n",
      "|       0.0|         1.0|[3.0,3.0,666666.6...|\n",
      "|       0.0|         1.0|[3.0,3.0,666666.6...|\n",
      "|       0.0|         1.0|[4.0,4.0,500000.0...|\n",
      "|       0.0|         1.0|[4.0,4.0,500000.0...|\n",
      "+----------+------------+--------------------+\n",
      "only showing top 5 rows\n",
      "\n"
     ]
    },
    {
     "name": "stderr",
     "output_type": "stream",
     "text": [
      "                                                                                \r"
     ]
    },
    {
     "name": "stdout",
     "output_type": "stream",
     "text": [
      "Test accuracy = 0.644109 \n",
      "Test Error = 0.355891 \n",
      "DecisionTreeClassificationModel: uid=DecisionTreeClassifier_d045584555e7, depth=5, numNodes=33, numClasses=2, numFeatures=5\n"
     ]
    },
    {
     "name": "stderr",
     "output_type": "stream",
     "text": [
      "                                                                                \r"
     ]
    }
   ],
   "source": [
    "from pyspark.sql import SparkSession, SQLContext\n",
    "from pyspark.ml import Pipeline\n",
    "from pyspark.ml.classification import DecisionTreeClassifier\n",
    "from pyspark.ml.feature import StringIndexer, VectorIndexer\n",
    "from pyspark.ml.evaluation import MulticlassClassificationEvaluator\n",
    "from pyspark.ml.feature import VectorAssembler\n",
    "from pyspark.sql.functions import *\n",
    "\n",
    "\n",
    "\n",
    "#Reading data.\n",
    "\n",
    "def parsingData(inputPath,inputPath2, spark):\n",
    "    df3 = spark.read.options(header='True').csv(inputPath)\n",
    "    df2 = spark.read.options(header='True').csv(inputPath2)\n",
    "    df = df3.union(df2)\n",
    "       \n",
    "    df.drop('Flow ID', ' Protocol',' Source IP',' Source Port',' Destination IP', ' Destination Port')\n",
    "    cols = []\n",
    "    cols = df.columns\n",
    "    \n",
    "    del cols[-1]\n",
    "    for coln in cols:\n",
    "        df = df.withColumn(coln,col(coln).cast(\"double\"))  \n",
    "    df = df[\" Flow Duration\",\" Flow IAT Mean\",\" Flow Packets/s\",\"Flow Bytes/s\",\"Total Length of Fwd Packets\", \" Label\"]\n",
    "    \n",
    "    df = df.withColumnRenamed(\" Flow Duration\", \"FD\")\\\n",
    "           .withColumnRenamed(\" Flow IAT Mean\", \" FIAM\")\\\n",
    "           .withColumnRenamed(\" Flow Packets/s\", \"FP\")\\\n",
    "           .withColumnRenamed(\"Flow Bytes/s\", \"FB\")\\\n",
    "           .withColumnRenamed(\"Total Length of Fwd Packets\", \"TLFP\")\\\n",
    "           .withColumnRenamed(\" Label\", \"Label\")\\\n",
    "    \n",
    "    return df\n",
    "\n",
    "def init():\n",
    "    spark = SparkSession.builder.appName('AndroidMalwareML').master(\"local\").getOrCreate()\n",
    "\n",
    "    return spark\n",
    "\n",
    "sc = init()\n",
    "data = parsingData(\"hdfs://namenode:9000/data/Ransomware/*.csv\",\"hdfs://namenode:9000/data/Adware/*.csv\", sc)\n",
    "data.printSchema()\n",
    "\n",
    "# Index labels, adding metadata to the label column.\n",
    "# Fit on whole dataset to include all labels in index.\n",
    "labelIndexer = StringIndexer(inputCol=\"Label\", outputCol=\"indexedLabel\").fit(data)\n",
    "col = data.columns\n",
    "del col[-1]\n",
    "vecta = VectorAssembler(inputCols=col,outputCol=\"features\")\n",
    "dataTemp = vecta.transform(data)\n",
    "\n",
    "# Automatically identify categorical features, and index them.\n",
    "# We specify maxCategories so features with > 4 distinct values are treated as continuous.\n",
    "featureIndexer =\\\n",
    "    VectorIndexer(inputCol=\"features\", outputCol=\"indexedFeatures\", maxCategories=5).fit(dataTemp)\n",
    "\n",
    "# Split the data into training and test sets (30% held out for testing)\n",
    "(trainingData, testData) = dataTemp.randomSplit([0.7, 0.3])\n",
    "\n",
    "# Train a DecisionTree model.\n",
    "dt = DecisionTreeClassifier(labelCol=\"indexedLabel\", featuresCol=\"indexedFeatures\")\n",
    "\n",
    "# Chain indexers and tree in a Pipeline\n",
    "pipeline = Pipeline(stages=[labelIndexer, featureIndexer, dt])\n",
    "\n",
    "# Train model.  This also runs the indexers.\n",
    "model = pipeline.fit(trainingData)\n",
    "\n",
    "# Make predictions.\n",
    "predictions = model.transform(testData)\n",
    "\n",
    "# Select example rows to display.\n",
    "predictions.select(\"prediction\", \"indexedLabel\", \"features\").show(5)\n",
    "\n",
    "# Select (prediction, true label) and compute test error\n",
    "evaluator = MulticlassClassificationEvaluator(\n",
    "    labelCol=\"indexedLabel\", predictionCol=\"prediction\", metricName=\"accuracy\")\n",
    "accuracy = evaluator.evaluate(predictions)\n",
    "print(\"Test accuracy = %g \" % (accuracy))\n",
    "print(\"Test Error = %g \" % (1.0 - accuracy))\n",
    "model.transform(dataTemp)\n",
    "treeModel = model.stages[2]\n",
    "# summary only\n",
    "print(treeModel)\n",
    "treeModel.write().overwrite().save(\"hdfs://namenode:9000/user/jovyan/model\")"
   ]
  },
  {
   "cell_type": "code",
   "execution_count": null,
   "metadata": {},
   "outputs": [],
   "source": []
  },
  {
   "cell_type": "code",
   "execution_count": null,
   "metadata": {},
   "outputs": [],
   "source": []
  }
 ],
 "metadata": {
  "kernelspec": {
   "display_name": "Python 3 (ipykernel)",
   "language": "python",
   "name": "python3"
  },
  "language_info": {
   "codemirror_mode": {
    "name": "ipython",
    "version": 3
   },
   "file_extension": ".py",
   "mimetype": "text/x-python",
   "name": "python",
   "nbconvert_exporter": "python",
   "pygments_lexer": "ipython3",
   "version": "3.9.7"
  }
 },
 "nbformat": 4,
 "nbformat_minor": 4
}
