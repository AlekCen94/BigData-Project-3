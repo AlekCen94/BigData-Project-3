{
 "cells": [
  {
   "cell_type": "code",
   "execution_count": 1,
   "metadata": {},
   "outputs": [
    {
     "name": "stderr",
     "output_type": "stream",
     "text": [
      "WARNING: An illegal reflective access operation has occurred\n",
      "WARNING: Illegal reflective access by org.apache.spark.unsafe.Platform (file:/usr/local/spark-3.2.0-bin-hadoop3.2/jars/spark-unsafe_2.12-3.2.0.jar) to constructor java.nio.DirectByteBuffer(long,int)\n",
      "WARNING: Please consider reporting this to the maintainers of org.apache.spark.unsafe.Platform\n",
      "WARNING: Use --illegal-access=warn to enable warnings of further illegal reflective access operations\n",
      "WARNING: All illegal access operations will be denied in a future release\n",
      "Using Spark's default log4j profile: org/apache/spark/log4j-defaults.properties\n",
      "Setting default log level to \"WARN\".\n",
      "To adjust logging level use sc.setLogLevel(newLevel). For SparkR, use setLogLevel(newLevel).\n",
      "22/03/05 07:00:31 WARN NativeCodeLoader: Unable to load native-hadoop library for your platform... using builtin-java classes where applicable\n"
     ]
    },
    {
     "name": "stdout",
     "output_type": "stream",
     "text": [
      "root\n",
      " |-- Flow_Duration: double (nullable = true)\n",
      " |--  Flow_IAT_Mean: double (nullable = true)\n",
      " |-- FP: double (nullable = true)\n",
      " |-- Label: string (nullable = true)\n",
      "\n"
     ]
    },
    {
     "name": "stderr",
     "output_type": "stream",
     "text": [
      "                                                                                \r"
     ]
    },
    {
     "name": "stdout",
     "output_type": "stream",
     "text": [
      "+----------+------------+--------------------+\n",
      "|prediction|indexedLabel|            features|\n",
      "+----------+------------+--------------------+\n",
      "|       0.0|         1.0|[3.0,3.0,666666.6...|\n",
      "|       0.0|         1.0|[3.0,3.0,666666.6...|\n",
      "|       0.0|         1.0|[3.0,3.0,666666.6...|\n",
      "|       0.0|         1.0|  [4.0,4.0,500000.0]|\n",
      "|       0.0|         1.0|  [4.0,4.0,500000.0]|\n",
      "+----------+------------+--------------------+\n",
      "only showing top 5 rows\n",
      "\n"
     ]
    },
    {
     "name": "stderr",
     "output_type": "stream",
     "text": [
      "                                                                                \r"
     ]
    },
    {
     "name": "stdout",
     "output_type": "stream",
     "text": [
      "Test accuracy = 0.648325 \n",
      "Test Error = 0.351675 \n",
      "DecisionTreeClassificationModel: uid=DecisionTreeClassifier_583cb752ea02, depth=5, numNodes=27, numClasses=2, numFeatures=3\n"
     ]
    },
    {
     "name": "stderr",
     "output_type": "stream",
     "text": [
      "                                                                                \r"
     ]
    }
   ],
   "source": [
    "from pyspark.sql import SparkSession, SQLContext\n",
    "from pyspark.ml import Pipeline\n",
    "from pyspark.ml.classification import DecisionTreeClassifier\n",
    "from pyspark.ml.feature import StringIndexer, VectorIndexer\n",
    "from pyspark.ml.evaluation import MulticlassClassificationEvaluator\n",
    "from pyspark.ml.feature import VectorAssembler\n",
    "from pyspark.sql.functions import *\n",
    "\n",
    "\n",
    "\n",
    "\n",
    "def parsingData(inputPath,inputPath2, spark):\n",
    "    df3 = spark.read.options(header='True').csv(inputPath)\n",
    "    df2 = spark.read.options(header='True').csv(inputPath2)\n",
    "    df = df3.union(df2)\n",
    "       \n",
    "    df.drop('Flow ID', ' Protocol',' Source IP',' Source Port',' Destination IP', ' Destination Port')\n",
    "    cols = []\n",
    "    cols = df.columns\n",
    "    \n",
    "    del cols[-1]\n",
    "    for coln in cols:\n",
    "        df = df.withColumn(coln,col(coln).cast(\"double\"))  \n",
    "    df = df[\" Flow Duration\",\" Flow IAT Mean\",\" Flow Packets/s\", \" Label\"]\n",
    "    \n",
    "    df = df.withColumnRenamed(\" Flow Duration\", \"Flow_Duration\")\\\n",
    "           .withColumnRenamed(\" Flow IAT Mean\", \" Flow_IAT_Mean\")\\\n",
    "           .withColumnRenamed(\" Flow Packets/s\", \"FP\")\\\n",
    "           .withColumnRenamed(\" Label\", \"Label\")\\\n",
    "    \n",
    "    return df\n",
    "\n",
    "def init():\n",
    "    spark = SparkSession.builder.appName('AndroidMalwareML').master(\"local\").getOrCreate()\n",
    "\n",
    "    return spark\n",
    "\n",
    "sc = init()\n",
    "data = parsingData(\"hdfs://namenode:9000/data/Ransomware/*.csv\",\"hdfs://namenode:9000/data/Adware/*.csv\", sc)\n",
    "data.printSchema()\n",
    "\n",
    "# Index labels, adding metadata to the label column.\n",
    "# Fit on whole dataset to include all labels in index.\n",
    "labelIndexer = StringIndexer(inputCol=\"Label\", outputCol=\"indexedLabel\").fit(data)\n",
    "col = data.columns\n",
    "del col[-1]\n",
    "vecta = VectorAssembler(inputCols=col,outputCol=\"features\")\n",
    "dataTemp = vecta.transform(data)\n",
    "\n",
    "# Automatically identify categorical features, and index them.\n",
    "# We specify maxCategories so features with > 4 distinct values are treated as continuous.\n",
    "featureIndexer =\\\n",
    "    VectorIndexer(inputCol=\"features\", outputCol=\"indexedFeatures\", maxCategories=5).fit(dataTemp)\n",
    "\n",
    "# Split the data into training and test sets (30% held out for testing)\n",
    "(trainingData, testData) = dataTemp.randomSplit([0.7, 0.3])\n",
    "\n",
    "# Train a DecisionTree model.\n",
    "dt = DecisionTreeClassifier(labelCol=\"indexedLabel\", featuresCol=\"indexedFeatures\")\n",
    "\n",
    "# Chain indexers and tree in a Pipeline\n",
    "pipeline = Pipeline(stages=[labelIndexer, featureIndexer, dt])\n",
    "\n",
    "# Train model.  This also runs the indexers.\n",
    "model = pipeline.fit(trainingData)\n",
    "\n",
    "# Make predictions.\n",
    "predictions = model.transform(testData)\n",
    "\n",
    "# Select example rows to display.\n",
    "predictions.select(\"prediction\", \"indexedLabel\", \"features\").show(5)\n",
    "\n",
    "# Select (prediction, true label) and compute test error\n",
    "evaluator = MulticlassClassificationEvaluator(\n",
    "    labelCol=\"indexedLabel\", predictionCol=\"prediction\", metricName=\"accuracy\")\n",
    "accuracy = evaluator.evaluate(predictions)\n",
    "print(\"Test accuracy = %g \" % (accuracy))\n",
    "print(\"Test Error = %g \" % (1.0 - accuracy))\n",
    "model.transform(dataTemp)\n",
    "treeModel = model.stages[2]\n",
    "# summary only\n",
    "print(treeModel)\n",
    "treeModel.write().overwrite().save(\"hdfs://namenode:9000/user/jovyan/model\")"
   ]
  },
  {
   "cell_type": "code",
   "execution_count": null,
   "metadata": {},
   "outputs": [],
   "source": []
  },
  {
   "cell_type": "code",
   "execution_count": null,
   "metadata": {},
   "outputs": [],
   "source": []
  }
 ],
 "metadata": {
  "kernelspec": {
   "display_name": "Python 3 (ipykernel)",
   "language": "python",
   "name": "python3"
  },
  "language_info": {
   "codemirror_mode": {
    "name": "ipython",
    "version": 3
   },
   "file_extension": ".py",
   "mimetype": "text/x-python",
   "name": "python",
   "nbconvert_exporter": "python",
   "pygments_lexer": "ipython3",
   "version": "3.9.7"
  }
 },
 "nbformat": 4,
 "nbformat_minor": 4
}
